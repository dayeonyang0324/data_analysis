{
 "cells": [
  {
   "cell_type": "markdown",
   "id": "departmental-induction",
   "metadata": {},
   "source": [
    "#### 최고로 기온이 높았던 날의 날짜와 몇 도였는지 구하기"
   ]
  },
  {
   "cell_type": "code",
   "execution_count": 7,
   "id": "yellow-costs",
   "metadata": {},
   "outputs": [
    {
     "name": "stdout",
     "output_type": "stream",
     "text": [
      "서울의 최고 기온은 2018-08-01, 39.6도 입니다.\n"
     ]
    }
   ],
   "source": [
    "import csv\n",
    "f = open('seoul.csv')\n",
    "data = csv.reader(f)\n",
    "header = next(data)\n",
    "\n",
    "max_temp = -999\n",
    "max_date = ''\n",
    "for row in data:\n",
    "    if row[-1] == '':\n",
    "        row[-1] = -999\n",
    "    row[-1] = float(row[-1])\n",
    "    if max_temp < row[-1]:\n",
    "        max_temp = row[-1]\n",
    "        max_date = row[0]\n",
    "print(f'서울의 최고 기온은 {max_date}, {max_temp}도 입니다.')\n",
    "f.close()"
   ]
  }
 ],
 "metadata": {
  "kernelspec": {
   "display_name": "Python 3",
   "language": "python",
   "name": "python3"
  },
  "language_info": {
   "codemirror_mode": {
    "name": "ipython",
    "version": 3
   },
   "file_extension": ".py",
   "mimetype": "text/x-python",
   "name": "python",
   "nbconvert_exporter": "python",
   "pygments_lexer": "ipython3",
   "version": "3.8.7"
  },
  "toc": {
   "base_numbering": 1,
   "nav_menu": {},
   "number_sections": true,
   "sideBar": true,
   "skip_h1_title": false,
   "title_cell": "Table of Contents",
   "title_sidebar": "Contents",
   "toc_cell": false,
   "toc_position": {},
   "toc_section_display": true,
   "toc_window_display": false
  }
 },
 "nbformat": 4,
 "nbformat_minor": 5
}
