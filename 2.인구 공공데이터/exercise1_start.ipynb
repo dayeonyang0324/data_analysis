{
 "cells": [
  {
   "cell_type": "markdown",
   "id": "dressed-partner",
   "metadata": {},
   "source": [
    "## 인구 공공데이터 불러오기\n",
    "- 행정안전부 통계 데이터"
   ]
  },
  {
   "cell_type": "code",
   "execution_count": null,
   "id": "cooked-hours",
   "metadata": {},
   "outputs": [],
   "source": [
    "import csv\n",
    "f = open('age.csv')\n",
    "data = csv.reader(f)\n",
    "\n",
    "# 모든 데이터 불러오기 (한줄씩)\n",
    "for row in data:\n",
    "    print(row)"
   ]
  },
  {
   "cell_type": "markdown",
   "id": "electrical-usage",
   "metadata": {},
   "source": [
    "### 특정 '동'의 데이터 불러오기\n",
    "- 조건이 길어지기 때문에 000동의 000만 포함되면 출력하도록 만든다"
   ]
  },
  {
   "cell_type": "code",
   "execution_count": 1,
   "id": "united-worcester",
   "metadata": {},
   "outputs": [
    {
     "name": "stdout",
     "output_type": "stream",
     "text": [
      "['서울특별시 종로구 청운효자동(1111051500)', '13,010', '13,010', '66', '79', '72', '98', '98', '94', '108', '109', '115', '95', '125', '142', '130', '105', '136', '124', '134', '151', '155', '147', '172', '143', '181', '188', '139', '163', '171', '186', '151', '137', '168', '157', '172', '160', '162', '193', '178', '232', '235', '226', '207', '192', '217', '232', '215', '260', '251', '260', '245', '240', '233', '217', '210', '227', '186', '170', '172', '197', '187', '183', '171', '150', '138', '160', '131', '132', '124', '91', '103', '115', '106', '119', '118', '95', '103', '92', '125', '94', '87', '103', '83', '64', '67', '62', '47', '47', '31', '30', '12', '21', '14', '9', '8', '14', '6', '7', '9', '4', '2', '2', '16']\n"
     ]
    }
   ],
   "source": [
    "# 특정 동의 정보 불러오기\n",
    "import csv\n",
    "f = open('age.csv')\n",
    "data = csv.reader(f)\n",
    "\n",
    "for row in data:\n",
    "    if row[0] == '서울특별시 종로구 청운효자동(1111051500)':\n",
    "        print(row)"
   ]
  },
  {
   "cell_type": "code",
   "execution_count": 2,
   "id": "boxed-minority",
   "metadata": {},
   "outputs": [
    {
     "name": "stdout",
     "output_type": "stream",
     "text": [
      "['서울특별시 종로구 청운효자동(1111051500)', '13,010', '13,010', '66', '79', '72', '98', '98', '94', '108', '109', '115', '95', '125', '142', '130', '105', '136', '124', '134', '151', '155', '147', '172', '143', '181', '188', '139', '163', '171', '186', '151', '137', '168', '157', '172', '160', '162', '193', '178', '232', '235', '226', '207', '192', '217', '232', '215', '260', '251', '260', '245', '240', '233', '217', '210', '227', '186', '170', '172', '197', '187', '183', '171', '150', '138', '160', '131', '132', '124', '91', '103', '115', '106', '119', '118', '95', '103', '92', '125', '94', '87', '103', '83', '64', '67', '62', '47', '47', '31', '30', '12', '21', '14', '9', '8', '14', '6', '7', '9', '4', '2', '2', '16']\n"
     ]
    }
   ],
   "source": [
    "import csv\n",
    "f = open('age.csv')\n",
    "data = csv.reader(f)\n",
    "\n",
    "for row in data:\n",
    "    if '청운효자' in row[0]:\n",
    "        print(row)"
   ]
  },
  {
   "cell_type": "markdown",
   "id": "welcome-coaching",
   "metadata": {},
   "source": [
    "### 자료에서 0세부터의 인구수만 숫자로 나열하기"
   ]
  },
  {
   "cell_type": "code",
   "execution_count": 3,
   "id": "adapted-devon",
   "metadata": {},
   "outputs": [
    {
     "name": "stdout",
     "output_type": "stream",
     "text": [
      "[66, 79, 72, 98, 98, 94, 108, 109, 115, 95, 125, 142, 130, 105, 136, 124, 134, 151, 155, 147, 172, 143, 181, 188, 139, 163, 171, 186, 151, 137, 168, 157, 172, 160, 162, 193, 178, 232, 235, 226, 207, 192, 217, 232, 215, 260, 251, 260, 245, 240, 233, 217, 210, 227, 186, 170, 172, 197, 187, 183, 171, 150, 138, 160, 131, 132, 124, 91, 103, 115, 106, 119, 118, 95, 103, 92, 125, 94, 87, 103, 83, 64, 67, 62, 47, 47, 31, 30, 12, 21, 14, 9, 8, 14, 6, 7, 9, 4, 2, 2, 16]\n"
     ]
    }
   ],
   "source": [
    "# 0세부터 인구수 나열하기\n",
    "import csv\n",
    "f = open('age.csv')\n",
    "data = csv.reader(f)\n",
    "\n",
    "result = []\n",
    "for row in data:\n",
    "    if '청운효자' in row[0]:\n",
    "        for i in row[3:]:\n",
    "            result.append(int(i))\n",
    "print(result)"
   ]
  },
  {
   "cell_type": "markdown",
   "id": "facial-gambling",
   "metadata": {},
   "source": [
    "### 데이터의 시각화\n",
    "- `import matplotlib.pyplot as plt` 기억하기"
   ]
  },
  {
   "cell_type": "code",
   "execution_count": 4,
   "id": "applicable-istanbul",
   "metadata": {},
   "outputs": [
    {
     "data": {
      "image/png": "[encoded data removed]",
      "text/plain": [
       "<Figure size 432x288 with 1 Axes>"
      ]
     },
     "metadata": {},
     "output_type": "display_data"
    }
   ],
   "source": [
    "# 데이터 시각화\n",
    "import matplotlib.pyplot as plt\n",
    "plt.style.use('ggplot')  # 격자 스타일\n",
    "plt.plot(result)\n",
    "plt.show()"
   ]
  }
 ],
 "metadata": {
  "kernelspec": {
   "display_name": "Python 3",
   "language": "python",
   "name": "python3"
  },
  "language_info": {
   "codemirror_mode": {
    "name": "ipython",
    "version": 3
   },
   "file_extension": ".py",
   "mimetype": "text/x-python",
   "name": "python",
   "nbconvert_exporter": "python",
   "pygments_lexer": "ipython3",
   "version": "3.8.7"
  },
  "toc": {
   "base_numbering": 1,
   "nav_menu": {},
   "number_sections": true,
   "sideBar": true,
   "skip_h1_title": false,
   "title_cell": "Table of Contents",
   "title_sidebar": "Contents",
   "toc_cell": false,
   "toc_position": {},
   "toc_section_display": true,
   "toc_window_display": false
  }
 },
 "nbformat": 4,
 "nbformat_minor": 5
}
