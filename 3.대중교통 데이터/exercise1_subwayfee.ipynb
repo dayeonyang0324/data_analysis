{
 "cells": [
  {
   "cell_type": "markdown",
   "id": "engaged-missouri",
   "metadata": {},
   "source": [
    "### 대중교통 데이터 분석\n",
    "- 티머니 홈페이지 > 대중교통 통계자료 > 지하철 유무임별 이용현황 ( , 제거)"
   ]
  },
  {
   "cell_type": "code",
   "execution_count": null,
   "id": "canadian-queue",
   "metadata": {},
   "outputs": [],
   "source": [
    "import csv\n",
    "f = open('subwayfee.csv')\n",
    "data = csv.reader(f)\n",
    "next(data)\n",
    "\n",
    "for row in data:\n",
    "    for i in range(4, 8):\n",
    "        row[i] = int(row[i])\n",
    "    print(row)"
   ]
  },
  {
   "cell_type": "markdown",
   "id": "checked-copyright",
   "metadata": {},
   "source": [
    "#### 유임 승차 비율이 가장 높은 역?\n",
    "- 유임 승차 4번째 index\n",
    "- 비율 = 유임승차인원/무임승차인원"
   ]
  },
  {
   "cell_type": "code",
   "execution_count": 1,
   "id": "massive-aircraft",
   "metadata": {},
   "outputs": [
    {
     "name": "stdout",
     "output_type": "stream",
     "text": [
      "['2021년 2월', '1호선', '1', '서울역', '759952 ', '717577 ', '126806 ', '118305 '] 5.99\n",
      "['2021년 2월', '1호선', '2', '시청', '371198 ', '370551 ', '47249 ', '44775 '] 7.86\n",
      "['2021년 2월', '2호선', '11', '시청', '430547 ', '407926 ', '34311 ', '30492 '] 12.55\n",
      "['2021년 2월', '2호선', '19', '한양대', '126549 ', '131862 ', '7718 ', '8078 '] 16.4\n",
      "['2021년 2월', '2호선', '49', '홍대입구', '1180000 ', '1232530 ', '65353 ', '63071 '] 18.06\n",
      "['2021년 2월', '경부선', '121', '서울역', '114443 ', '35108 ', '5768 ', '1413 '] 19.84\n"
     ]
    }
   ],
   "source": [
    "import csv\n",
    "f = open('subwayfee.csv')\n",
    "data = csv.reader(f)\n",
    "next(data)\n",
    "\n",
    "maxi = 0\n",
    "rate = 0\n",
    "for row in data:\n",
    "    if int(row[6]) != 0:\n",
    "        rate = int(row[4]) / int(row[6])\n",
    "        if rate > maxi:\n",
    "            maxi = rate\n",
    "            print(row, round(rate, 2))\n",
    "        "
   ]
  },
  {
   "cell_type": "code",
   "execution_count": 2,
   "id": "destroyed-smell",
   "metadata": {},
   "outputs": [
    {
     "name": "stdout",
     "output_type": "stream",
     "text": [
      "['2021년 2월', '1호선', '1', '서울역', '759952 ', '717577 ', '126806 ', '118305 '] 0.86\n",
      "['2021년 2월', '1호선', '2', '시청', '371198 ', '370551 ', '47249 ', '44775 '] 0.89\n",
      "['2021년 2월', '2호선', '11', '시청', '430547 ', '407926 ', '34311 ', '30492 '] 0.93\n",
      "['2021년 2월', '2호선', '19', '한양대', '126549 ', '131862 ', '7718 ', '8078 '] 0.94\n",
      "['2021년 2월', '2호선', '49', '홍대입구', '1180000 ', '1232530 ', '65353 ', '63071 '] 0.95\n",
      "['2021년 2월', '경부선', '121', '서울역', '114443 ', '35108 ', '5768 ', '1413 '] 0.95\n"
     ]
    }
   ],
   "source": [
    "# rate = 유임승차 / 유임+무임 승차\n",
    "import csv\n",
    "f = open('subwayfee.csv')\n",
    "data = csv.reader(f)\n",
    "next(data)\n",
    "\n",
    "maxi = 0\n",
    "rate = 0\n",
    "for row in data:\n",
    "    if int(row[6]) != 0 and (int(row[4])+int(row[6])) > 100000:\n",
    "        rate = int(row[4]) / (int(row[6]) + int(row[4]))\n",
    "        if rate > maxi:\n",
    "            maxi = rate\n",
    "            print(row, round(rate, 2))"
   ]
  },
  {
   "cell_type": "code",
   "execution_count": 3,
   "id": "functioning-vocabulary",
   "metadata": {},
   "outputs": [
    {
     "name": "stdout",
     "output_type": "stream",
     "text": [
      "서울역 경부선 95.2\n"
     ]
    }
   ],
   "source": [
    "import csv\n",
    "f = open('subwayfee.csv')\n",
    "data = csv.reader(f)\n",
    "next(data)\n",
    "\n",
    "maxi = 0\n",
    "rate = 0\n",
    "maxi_station = ''\n",
    "\n",
    "for row in data:\n",
    "    for i in range(4, 8):\n",
    "        row[i] = int(row[i])\n",
    "    if row[6] != 0 and (row[4] + row[6]) > 100000:\n",
    "        rate = row[4] / (row[4] + row[6])\n",
    "        if rate > maxi:\n",
    "            maxi = rate\n",
    "            maxi_station = row[3] + ' ' + row[1]\n",
    "        \n",
    "print(maxi_station, round(maxi*100, 2))"
   ]
  },
  {
   "cell_type": "markdown",
   "id": "taken-mineral",
   "metadata": {},
   "source": [
    "### 유무임 승하차 인원이 가장 많은 역 찾기"
   ]
  },
  {
   "cell_type": "code",
   "execution_count": 4,
   "id": "exclusive-whale",
   "metadata": {},
   "outputs": [
    {
     "name": "stdout",
     "output_type": "stream",
     "text": [
      "유임승차 : 강남2호선 1711729\n",
      "유임하차 : 강남2호선 1676555\n",
      "무임승차 : 청량리(서울시립대입구)1호선 210004\n",
      "무임하차 : 제기동1호선 223286\n"
     ]
    }
   ],
   "source": [
    "import csv\n",
    "f = open('subwayfee.csv')\n",
    "data = csv.reader(f)\n",
    "next(data)\n",
    "\n",
    "maxi = [0]*4\n",
    "maxi_station = ['']*4\n",
    "label = ['유임승차', '유임하차', '무임승차', '무임하차']\n",
    "\n",
    "for row in data:\n",
    "    for i in range(4, 8):\n",
    "        row[i] = int(row[i])\n",
    "        if row[i] > maxi[i-4]:\n",
    "            maxi[i-4] = row[i]\n",
    "            maxi_station[i-4] = row[3] +  row[1]\n",
    "\n",
    "for i in range(4):\n",
    "    print(label[i] + ' : ' + maxi_station[i], maxi[i])\n",
    "        "
   ]
  },
  {
   "cell_type": "markdown",
   "id": "becoming-hollow",
   "metadata": {},
   "source": [
    "### 모든 역의 유무임 승하차 비율 : 파이차트"
   ]
  },
  {
   "cell_type": "code",
   "execution_count": 8,
   "id": "express-shower",
   "metadata": {},
   "outputs": [
    {
     "data": {
      "image/png": "[encoded data removed]",
      "text/plain": [
       "<Figure size 600x400 with 1 Axes>"
      ]
     },
     "metadata": {},
     "output_type": "display_data"
    }
   ],
   "source": [
    "import csv\n",
    "import matplotlib.pyplot as plt\n",
    "\n",
    "f = open('subwayfee.csv')\n",
    "data = csv.reader(f)\n",
    "next(data)\n",
    "\n",
    "label = ['유임승차', '유임하차', '무임승차', '무임하차']\n",
    "plt.rc('font', family='Malgun Gothic')\n",
    "\n",
    "for row in data:\n",
    "    for i in range(4, 8):\n",
    "        row[i] = int(row[i])\n",
    "    \n",
    "    plt.figure(dpi=100)\n",
    "    plt.title(row[3] + row[1])\n",
    "    plt.pie(row[4:8], labels=label, autopct='%1.f%%')\n",
    "    plt.axis('equal')\n",
    "    plt.show()\n",
    "    break"
   ]
  },
  {
   "cell_type": "code",
   "execution_count": null,
   "id": "growing-italian",
   "metadata": {},
   "outputs": [],
   "source": [
    "# 작업 중인 폴더에 이미지 파일 저장\n",
    "plt.saveflg(row[3] + row[1] + '.png')"
   ]
  }
 ],
 "metadata": {
  "kernelspec": {
   "display_name": "Python 3",
   "language": "python",
   "name": "python3"
  },
  "language_info": {
   "codemirror_mode": {
    "name": "ipython",
    "version": 3
   },
   "file_extension": ".py",
   "mimetype": "text/x-python",
   "name": "python",
   "nbconvert_exporter": "python",
   "pygments_lexer": "ipython3",
   "version": "3.8.7"
  },
  "toc": {
   "base_numbering": 1,
   "nav_menu": {},
   "number_sections": true,
   "sideBar": true,
   "skip_h1_title": false,
   "title_cell": "Table of Contents",
   "title_sidebar": "Contents",
   "toc_cell": false,
   "toc_position": {},
   "toc_section_display": true,
   "toc_window_display": false
  }
 },
 "nbformat": 4,
 "nbformat_minor": 5
}
