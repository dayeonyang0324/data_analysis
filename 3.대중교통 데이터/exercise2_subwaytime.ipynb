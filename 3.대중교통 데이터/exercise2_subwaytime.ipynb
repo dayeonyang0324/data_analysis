{
 "cells": [
  {
   "cell_type": "markdown",
   "id": "double-religious",
   "metadata": {},
   "source": [
    "## 시간대별 데이터 시각화\n",
    "- 티머니 홈페이지 > 대중교통 통계자료 > 지하철 시간대별 이용현황 ( , 제거)"
   ]
  },
  {
   "cell_type": "code",
   "execution_count": null,
   "id": "rocky-configuration",
   "metadata": {},
   "outputs": [],
   "source": [
    "import csv\n",
    "f = open('subwaytime.csv')\n",
    "data = csv.reader(f)\n",
    "next(data)\n",
    "next(data)\n",
    "for row in data:\n",
    "    row[4:] = map(int, row[4:])  # 숫자로 변경하여 저장\n",
    "    print(row)"
   ]
  },
  {
   "cell_type": "markdown",
   "id": "wrapped-scottish",
   "metadata": {},
   "source": [
    "### 7시 승차 인원 그래프"
   ]
  },
  {
   "cell_type": "code",
   "execution_count": 16,
   "id": "standing-calibration",
   "metadata": {},
   "outputs": [
    {
     "data": {
      "image/png": "[encoded data removed]",
      "text/plain": [
       "<Figure size 432x288 with 1 Axes>"
      ]
     },
     "metadata": {
      "needs_background": "light"
     },
     "output_type": "display_data"
    }
   ],
   "source": [
    "import csv\n",
    "f = open('subwaytime.csv')\n",
    "data = csv.reader(f)\n",
    "next(data)\n",
    "next(data)\n",
    "\n",
    "result = []\n",
    "for row in data:\n",
    "    result.append(int(row[10]))\n",
    "\n",
    "# 시각화 그래프\n",
    "import matplotlib.pyplot as plt\n",
    "plt.bar(range(len(result)), result)  # 가로축(range 사용), 세로축(리스트)\n",
    "plt.show()"
   ]
  },
  {
   "cell_type": "markdown",
   "id": "signed-bracelet",
   "metadata": {},
   "source": [
    "### 오름차순 정렬"
   ]
  },
  {
   "cell_type": "code",
   "execution_count": 4,
   "id": "current-friday",
   "metadata": {},
   "outputs": [
    {
     "data": {
      "image/png": "[encoded data removed]",
      "text/plain": [
       "<Figure size 432x288 with 1 Axes>"
      ]
     },
     "metadata": {
      "needs_background": "light"
     },
     "output_type": "display_data"
    }
   ],
   "source": [
    "result.sort()\n",
    "plt.bar(range(len(result)), result)\n",
    "plt.show()"
   ]
  },
  {
   "cell_type": "markdown",
   "id": "finnish-constitution",
   "metadata": {},
   "source": [
    "### 7 ~ 9시 승차 인원"
   ]
  },
  {
   "cell_type": "code",
   "execution_count": 6,
   "id": "attractive-nation",
   "metadata": {},
   "outputs": [
    {
     "data": {
      "image/png": "[encoded data removed]",
      "text/plain": [
       "<Figure size 432x288 with 1 Axes>"
      ]
     },
     "metadata": {
      "needs_background": "light"
     },
     "output_type": "display_data"
    }
   ],
   "source": [
    "for row in data:\n",
    "    row[4:] = map(int, row[4:])\n",
    "    result.append(sum(row[10:15:2]))\n",
    "    \n",
    "result.sort()\n",
    "plt.bar(range(len(result)), result)\n",
    "plt.show()"
   ]
  },
  {
   "cell_type": "markdown",
   "id": "earlier-ebony",
   "metadata": {},
   "source": [
    "### 3시간 동안 최댓값 역 찾기\n",
    "- 7시부터 9시까지 가장 많이 타는 역"
   ]
  },
  {
   "cell_type": "code",
   "execution_count": 10,
   "id": "meaning-closure",
   "metadata": {},
   "outputs": [
    {
     "name": "stdout",
     "output_type": "stream",
     "text": [
      "신림(2호선) 544943\n"
     ]
    }
   ],
   "source": [
    "import csv\n",
    "f = open('subwaytime.csv')\n",
    "data = csv.reader(f)\n",
    "next(data)\n",
    "next(data)\n",
    "\n",
    "maxi = 0\n",
    "station = ''\n",
    "for row in data:\n",
    "    row[4:] = map(int, row[4:])\n",
    "    if sum(row[10:15:2]) > maxi:\n",
    "        maxi = sum(row[10:15:2])\n",
    "        station = row[3] + '(' + row[1] + ')'\n",
    "print(station, maxi)  "
   ]
  },
  {
   "cell_type": "markdown",
   "id": "historic-optics",
   "metadata": {},
   "source": [
    "- 7시부터 9시까지 가장 많이 내리는 역"
   ]
  },
  {
   "cell_type": "code",
   "execution_count": 12,
   "id": "confirmed-mileage",
   "metadata": {},
   "outputs": [
    {
     "name": "stdout",
     "output_type": "stream",
     "text": [
      "중앙보훈병원(9호선2~3단계) 69978\n"
     ]
    }
   ],
   "source": [
    "import csv\n",
    "f = open('subwaytime.csv')\n",
    "data = csv.reader(f)\n",
    "next(data)\n",
    "next(data)\n",
    "\n",
    "maxi = 0\n",
    "station = ''\n",
    "for row in data:\n",
    "    row[4:] = map(int, row[4:])\n",
    "    if sum(row[11:16:2]) > maxi:\n",
    "        maxi = sum(row[10:15:2])\n",
    "        station = row[3] + '(' + row[1] + ')'\n",
    "print(station, maxi)  "
   ]
  },
  {
   "cell_type": "markdown",
   "id": "involved-english",
   "metadata": {},
   "source": [
    "### 밤 11시 사람들이 가장 많이 타는 역"
   ]
  },
  {
   "cell_type": "code",
   "execution_count": 5,
   "id": "numeric-disco",
   "metadata": {},
   "outputs": [
    {
     "name": "stdout",
     "output_type": "stream",
     "text": [
      "신림(2호선) 91172\n"
     ]
    }
   ],
   "source": [
    "import csv\n",
    "f = open('subwaytime.csv')\n",
    "data = csv.reader(f)\n",
    "next(data)\n",
    "next(data)\n",
    "\n",
    "maxi = 0\n",
    "station = ''\n",
    "for row in data:\n",
    "    if maxi < int(row[41]):\n",
    "        maxi = int(row[41])\n",
    "        station = row[3] + '(' + row[1] + ')'\n",
    "print(station, maxi)"
   ]
  },
  {
   "cell_type": "markdown",
   "id": "private-guidance",
   "metadata": {},
   "source": [
    "### 시간대별 최대 승차 인원"
   ]
  },
  {
   "cell_type": "code",
   "execution_count": 12,
   "id": "affecting-island",
   "metadata": {},
   "outputs": [
    {
     "name": "stdout",
     "output_type": "stream",
     "text": [
      "['구로4시', '신림5시', '신림6시', '신림7시', '신림8시', '신림9시', '신림10시', '신림11시', '신림12시', '강남13시', '강남14시', '강남15시', '강남16시', '강남17시', '강남18시', '강남19시', '강남20시', '강남21시', '강남22시', '강남23시', '부평24시', '창동25시', '동묘앞26시', ''] [7057, 30145, 58174, 156999, 243617, 144327, 76795, 65962, 69564, 82744, 90866, 115646, 131954, 189404, 274814, 177704, 154124, 199525, 109998, 15127, 577, 10, 3, 0]\n"
     ]
    }
   ],
   "source": [
    "import csv\n",
    "f = open('subwaytime.csv')\n",
    "data = csv.reader(f)\n",
    "next(data)\n",
    "next(data)\n",
    "\n",
    "maxi = [0] * 24\n",
    "station = [''] * 24\n",
    "for row in data:\n",
    "    row[4:] = map(int, row[4:])\n",
    "    for j in range(24):\n",
    "        a = row[j*2 + 4]\n",
    "        if a > maxi[j]:\n",
    "            maxi[j] = a\n",
    "            station[j] = row[3] + str(j+4)+'시'\n",
    "print(station, maxi)"
   ]
  },
  {
   "cell_type": "code",
   "execution_count": 13,
   "id": "positive-cologne",
   "metadata": {},
   "outputs": [
    {
     "data": {
      "image/png": "[encoded data removed]",
      "text/plain": [
       "<Figure size 432x288 with 1 Axes>"
      ]
     },
     "metadata": {
      "needs_background": "light"
     },
     "output_type": "display_data"
    }
   ],
   "source": [
    "import matplotlib.pyplot as plt\n",
    "plt.rc('font', family = 'Malgun Gothic')\n",
    "plt.bar(range(24), maxi)\n",
    "plt.xticks(range(24), station, rotation=90)  # 축 축 범위가 아닌 역 이름으로 표시\n",
    "plt.show()"
   ]
  },
  {
   "cell_type": "markdown",
   "id": "charged-cycle",
   "metadata": {},
   "source": [
    "### 시간대별 승하차 인원 추이"
   ]
  },
  {
   "cell_type": "code",
   "execution_count": 15,
   "id": "opening-scene",
   "metadata": {},
   "outputs": [
    {
     "data": {
      "image/png": "[encoded data removed]",
      "text/plain": [
       "<Figure size 432x288 with 1 Axes>"
      ]
     },
     "metadata": {
      "needs_background": "light"
     },
     "output_type": "display_data"
    }
   ],
   "source": [
    "import csv\n",
    "f = open('subwaytime.csv')\n",
    "data = csv.reader(f)\n",
    "next(data)\n",
    "next(data)\n",
    "\n",
    "# 승하차 인원 따로\n",
    "in_train = [0] * 24\n",
    "out_train = [0] * 24\n",
    "\n",
    "for row in data: \n",
    "    row[4:] = map(int, row[4:])\n",
    "    for i in range(24):\n",
    "        in_train[i] += row[i*2 + 4]\n",
    "        out_train[i] += row[i*2 + 5]\n",
    "\n",
    "# 꺽은선 그래프 그리기\n",
    "import matplotlib.pyplot as plt\n",
    "plt.plot(in_train, label='승차인원')\n",
    "plt.plot(out_train, label='하차인원')\n",
    "plt.legend()\n",
    "plt.show()"
   ]
  }
 ],
 "metadata": {
  "kernelspec": {
   "display_name": "Python 3",
   "language": "python",
   "name": "python3"
  },
  "language_info": {
   "codemirror_mode": {
    "name": "ipython",
    "version": 3
   },
   "file_extension": ".py",
   "mimetype": "text/x-python",
   "name": "python",
   "nbconvert_exporter": "python",
   "pygments_lexer": "ipython3",
   "version": "3.8.7"
  },
  "toc": {
   "base_numbering": 1,
   "nav_menu": {},
   "number_sections": true,
   "sideBar": true,
   "skip_h1_title": false,
   "title_cell": "Table of Contents",
   "title_sidebar": "Contents",
   "toc_cell": false,
   "toc_position": {},
   "toc_section_display": true,
   "toc_window_display": false
  }
 },
 "nbformat": 4,
 "nbformat_minor": 5
}
