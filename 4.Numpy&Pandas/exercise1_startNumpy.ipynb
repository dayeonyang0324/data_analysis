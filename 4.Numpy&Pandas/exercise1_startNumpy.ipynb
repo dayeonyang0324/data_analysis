{
 "cells": [
  {
   "cell_type": "markdown",
   "id": "threaded-branch",
   "metadata": {},
   "source": [
    "## Numpy"
   ]
  },
  {
   "cell_type": "code",
   "execution_count": 1,
   "id": "turkish-dining",
   "metadata": {},
   "outputs": [
    {
     "data": {
      "image/png": "[encoded data removed]",
      "text/plain": [
       "<Figure size 432x288 with 1 Axes>"
      ]
     },
     "metadata": {
      "needs_background": "light"
     },
     "output_type": "display_data"
    }
   ],
   "source": [
    "import matplotlib.pyplot as plt\n",
    "import numpy as np\n",
    "\n",
    "t = np.arange(0., 5., 0.2)\n",
    "plt.plot(t, t, 'r--', t, t**2, 'bs', t, t**3, 'g^')\n",
    "plt.show()"
   ]
  },
  {
   "cell_type": "code",
   "execution_count": 2,
   "id": "charitable-malta",
   "metadata": {},
   "outputs": [
    {
     "data": {
      "image/png": "[encoded data removed]",
      "text/plain": [
       "<Figure size 432x288 with 1 Axes>"
      ]
     },
     "metadata": {
      "needs_background": "light"
     },
     "output_type": "display_data"
    }
   ],
   "source": [
    "t = []\n",
    "p2 = []\n",
    "p3 = []\n",
    "for i in range(0, 50, 2):\n",
    "    t.append(i/10)\n",
    "    p2.append((i/10) ** 2)\n",
    "    p3.append((i/10) ** 3)\n",
    "plt.plot(t, t, 'r--', t, p2, 'bs', t, p3, 'g^')\n",
    "plt.show()"
   ]
  },
  {
   "cell_type": "markdown",
   "id": "driving-chocolate",
   "metadata": {},
   "source": [
    "### Numpy"
   ]
  },
  {
   "cell_type": "code",
   "execution_count": 3,
   "id": "loaded-animal",
   "metadata": {},
   "outputs": [
    {
     "name": "stdout",
     "output_type": "stream",
     "text": [
      "[0.87044727 0.77265105 0.27149687 0.5708938  0.45155939]\n",
      "<class 'numpy.ndarray'>\n"
     ]
    }
   ],
   "source": [
    "# Numpy 표현\n",
    "import numpy as np\n",
    "a = np.random.rand(5)  # 0부터 1사이 n개의 실수 랜덤 생성\n",
    "print(a)\n",
    "print(type(a))"
   ]
  },
  {
   "cell_type": "code",
   "execution_count": 4,
   "id": "twelve-bathroom",
   "metadata": {},
   "outputs": [
    {
     "name": "stdout",
     "output_type": "stream",
     "text": [
      "3.141592653589793\n",
      "0.0\n",
      "-1.0\n",
      "[2 0 4 4 1 0 5 3 4 3]\n",
      "[5 1 4 7 9 0]\n",
      "[3 2 1 1 2 2 3 3 3 5]\n"
     ]
    }
   ],
   "source": [
    "print(np.pi)\n",
    "print(np.sin(0))\n",
    "print(np.cos(np.pi))\n",
    "print(np.random.choice(6, 10))\n",
    "print(np.random.choice(10, 6, replace=False))  # 한번 나온값은 안 나오게\n",
    "print(np.random.choice(6, 10, p=[0.1, 0.2, 0.3, 0.2, 0.1, 0.1]))  # p로 확률지정"
   ]
  },
  {
   "cell_type": "markdown",
   "id": "continental-fault",
   "metadata": {},
   "source": [
    "### 그래프 그리기"
   ]
  },
  {
   "cell_type": "code",
   "execution_count": 5,
   "id": "military-islam",
   "metadata": {},
   "outputs": [
    {
     "data": {
      "image/png": "[encoded data removed]",
      "text/plain": [
       "<Figure size 432x288 with 1 Axes>"
      ]
     },
     "metadata": {
      "needs_background": "light"
     },
     "output_type": "display_data"
    }
   ],
   "source": [
    "import matplotlib.pyplot as plt\n",
    "import numpy as np\n",
    "dice = np.random.choice(6, 10)\n",
    "\n",
    "plt.hist(dice, bins=6)\n",
    "plt.show()"
   ]
  },
  {
   "cell_type": "code",
   "execution_count": null,
   "id": "optional-meaning",
   "metadata": {},
   "outputs": [],
   "source": [
    "# 버블 차트 그리기\n",
    "import matplotlib.pyplot as plt\n",
    "import numpy as np\n",
    "\n",
    "x = np.random.randint(10, 100, 200)\n",
    "y = np.random.randint(10, 100, 200)\n",
    "size = np.random.rand(100) * 100\n",
    "\n",
    "plt.scatter(x, y, s=size, c=x, cmap='jet', alpha=0.7)\n",
    "plt.colorbar()\n",
    "plt.show()"
   ]
  }
 ],
 "metadata": {
  "kernelspec": {
   "display_name": "Python 3",
   "language": "python",
   "name": "python3"
  },
  "language_info": {
   "codemirror_mode": {
    "name": "ipython",
    "version": 3
   },
   "file_extension": ".py",
   "mimetype": "text/x-python",
   "name": "python",
   "nbconvert_exporter": "python",
   "pygments_lexer": "ipython3",
   "version": "3.8.7"
  },
  "toc": {
   "base_numbering": 1,
   "nav_menu": {},
   "number_sections": true,
   "sideBar": true,
   "skip_h1_title": false,
   "title_cell": "Table of Contents",
   "title_sidebar": "Contents",
   "toc_cell": false,
   "toc_position": {},
   "toc_section_display": true,
   "toc_window_display": false
  }
 },
 "nbformat": 4,
 "nbformat_minor": 5
}
