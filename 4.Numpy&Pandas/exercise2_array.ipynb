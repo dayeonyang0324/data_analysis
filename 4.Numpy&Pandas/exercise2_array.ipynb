{
 "cells": [
  {
   "cell_type": "markdown",
   "id": "champion-citizen",
   "metadata": {},
   "source": [
    "### Numpy array 생성하기"
   ]
  },
  {
   "cell_type": "code",
   "execution_count": 1,
   "id": "voluntary-forest",
   "metadata": {},
   "outputs": [
    {
     "name": "stdout",
     "output_type": "stream",
     "text": [
      "[1 2 3 4]\n",
      "2 4\n",
      "[2 3 4]\n"
     ]
    }
   ],
   "source": [
    "import numpy as np\n",
    "a = np.array([1, 2, 3, 4])\n",
    "print(a)\n",
    "\n",
    "a = np.array([1, 2, 3, 4])\n",
    "print(a[1], a[-1])\n",
    "print(a[1:])"
   ]
  },
  {
   "cell_type": "code",
   "execution_count": 2,
   "id": "checked-maintenance",
   "metadata": {},
   "outputs": [
    {
     "name": "stdout",
     "output_type": "stream",
     "text": [
      "['1' '2' '3' '4']\n",
      "[0. 0. 0. 0. 0. 0. 0. 0. 0. 0.]\n",
      "[5. 5. 5. 5. 5. 5. 5. 5. 5. 5.]\n",
      "[1. 1. 1. 1. 1. 1. 1. 1. 1. 1.]\n"
     ]
    }
   ],
   "source": [
    "import numpy as np\n",
    "a = np.array([1, 2, '3', 4])\n",
    "print(a)\n",
    "\n",
    "a = np.zeros(10)  # 0으로 이뤄진 크기가 10인 배열\n",
    "print(a)\n",
    "\n",
    "a = np.zeros(10) + 5  # 5로 이뤄진 크기가 10인 배열\n",
    "print(a)\n",
    "\n",
    "a = np.ones(10)  # 1로 이뤄진 크기가 10인 배열\n",
    "print(a)"
   ]
  },
  {
   "cell_type": "code",
   "execution_count": 3,
   "id": "greek-strike",
   "metadata": {},
   "outputs": [
    {
     "name": "stdout",
     "output_type": "stream",
     "text": [
      "[[1. 0. 0.]\n",
      " [0. 1. 0.]\n",
      " [0. 0. 1.]]\n",
      "[0 1 2]\n",
      "[3 4 5 6]\n",
      "[3 5 7 9]\n",
      "[1.  1.1 1.2 1.3 1.4 1.5 1.6 1.7 1.8 1.9]\n",
      "[1.  1.1 1.2 1.3 1.4 1.5 1.6 1.7 1.8 1.9 2. ]\n"
     ]
    }
   ],
   "source": [
    "a = np.eye(3)  # 3행 3열의 단위 배열 형성\n",
    "print(a)\n",
    "\n",
    "print(np.arange(3))\n",
    "print(np.arange(3, 7))\n",
    "print(np.arange(3, 10, 2))\n",
    "print(np.arange(1, 2, 0.1))  # 1부터 2까지 0.1간격\n",
    "print(np.linspace(1, 2, 11))  # 1부터 2까지 11개 구간"
   ]
  },
  {
   "cell_type": "code",
   "execution_count": 4,
   "id": "genetic-commons",
   "metadata": {},
   "outputs": [
    {
     "name": "stdout",
     "output_type": "stream",
     "text": [
      "[-3.14159265 -2.82743339 -2.51327412 -2.19911486 -1.88495559 -1.57079633\n",
      " -1.25663706 -0.9424778  -0.62831853 -0.31415927  0.          0.31415927\n",
      "  0.62831853  0.9424778   1.25663706  1.57079633  1.88495559  2.19911486\n",
      "  2.51327412  2.82743339]\n",
      "[-3.14159265 -2.81089869 -2.48020473 -2.14951076 -1.8188168  -1.48812284\n",
      " -1.15742887 -0.82673491 -0.49604095 -0.16534698  0.16534698  0.49604095\n",
      "  0.82673491  1.15742887  1.48812284  1.8188168   2.14951076  2.48020473\n",
      "  2.81089869  3.14159265]\n"
     ]
    }
   ],
   "source": [
    "print(np.arange(-np.pi, np.pi, np.pi/10))\n",
    "print(np.linspace(-np.pi, np.pi, 20))"
   ]
  },
  {
   "cell_type": "code",
   "execution_count": 5,
   "id": "defensive-inspection",
   "metadata": {},
   "outputs": [
    {
     "data": {
      "image/png": "[encoded data removed]",
      "text/plain": [
       "<Figure size 432x288 with 1 Axes>"
      ]
     },
     "metadata": {
      "needs_background": "light"
     },
     "output_type": "display_data"
    }
   ],
   "source": [
    "import matplotlib.pyplot as plt\n",
    "import numpy as np\n",
    "\n",
    "a = np.arange(-np.pi, np.pi, np.pi/100)\n",
    "plt.plot(a, np.sin(a))\n",
    "plt.plot(a, np.cos(a))\n",
    "plt.plot(a+np.pi/2, np.sin(a))\n",
    "plt.show()"
   ]
  },
  {
   "cell_type": "code",
   "execution_count": 6,
   "id": "standing-roberts",
   "metadata": {},
   "outputs": [
    {
     "name": "stdout",
     "output_type": "stream",
     "text": [
      "[-5 -4 -3 -2 -1  0  1  2  3  4]\n",
      "[ True  True  True  True  True False False False False False]\n",
      "[-5 -4 -3 -2 -1]\n"
     ]
    }
   ],
   "source": [
    "import numpy as np\n",
    "a = np.arange(-5, 5)\n",
    "print(a)\n",
    "print(a<0)\n",
    "print(a[a<0])"
   ]
  },
  {
   "cell_type": "code",
   "execution_count": 7,
   "id": "brilliant-order",
   "metadata": {},
   "outputs": [
    {
     "name": "stdout",
     "output_type": "stream",
     "text": [
      "[-5 -4  4]\n",
      "[-5 -4 -2  0  2  4]\n",
      "[-4  4]\n"
     ]
    }
   ],
   "source": [
    "mask1 = abs(a) > 3\n",
    "mask2 = abs(a) % 2 == 0\n",
    "print(a[mask1])\n",
    "print(a[mask1+mask2])\n",
    "print(a[mask1*mask2])"
   ]
  },
  {
   "cell_type": "markdown",
   "id": "racial-junction",
   "metadata": {},
   "source": [
    "### Numpy를 활용한 버블 차트 그리기"
   ]
  },
  {
   "cell_type": "code",
   "execution_count": null,
   "id": "incorporate-government",
   "metadata": {},
   "outputs": [],
   "source": [
    "import matplotlib.pyplot as plt\n",
    "import numpy as np\n",
    "\n",
    "x = np.random.randint(-100, 100, 1000)\n",
    "y = np.random.randint(-100, 100, 1000)\n",
    "size = np.random.rand(100) * 100\n",
    "\n",
    "mask1 = abs(x) > 50\n",
    "mask2 = abs(y) > 50\n",
    "x = x[mask1+mask2]  # mask1과 mask2 중 하나라도 만족하는 값 저장\n",
    "y = y[mask1+mask2]\n",
    "\n",
    "plt.scatter(x, y, s=size, c=x, cmap='jet', alpha=0.7)\n",
    "plt.colorbar()\n",
    "plt.show()"
   ]
  }
 ],
 "metadata": {
  "kernelspec": {
   "display_name": "Python 3",
   "language": "python",
   "name": "python3"
  },
  "language_info": {
   "codemirror_mode": {
    "name": "ipython",
    "version": 3
   },
   "file_extension": ".py",
   "mimetype": "text/x-python",
   "name": "python",
   "nbconvert_exporter": "python",
   "pygments_lexer": "ipython3",
   "version": "3.8.7"
  },
  "toc": {
   "base_numbering": 1,
   "nav_menu": {},
   "number_sections": true,
   "sideBar": true,
   "skip_h1_title": false,
   "title_cell": "Table of Contents",
   "title_sidebar": "Contents",
   "toc_cell": false,
   "toc_position": {},
   "toc_section_display": true,
   "toc_window_display": false
  }
 },
 "nbformat": 4,
 "nbformat_minor": 5
}
